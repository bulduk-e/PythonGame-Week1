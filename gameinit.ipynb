{
 "cells": [
  {
   "cell_type": "code",
   "execution_count": 3,
   "metadata": {},
   "outputs": [],
   "source": [
    "import re\n",
    "import random\n",
    "import numpy as np\n",
    "from string import ascii_uppercase\n"
   ]
  },
  {
   "cell_type": "code",
   "execution_count": 4,
   "metadata": {},
   "outputs": [],
   "source": [
    "#INITIALIZATION OF GAME\n",
    "#Defined size of board (rows m , colums n)\n",
    "m = 10; n = 10\n",
    "\n",
    "#Defined length of ships\n",
    "ships_size={\"carrier\":5,\n",
    "\"battleship\":4,\n",
    "\"cruiser\":3,\n",
    "\"submarine\":3,\n",
    "\"destroyer\": 2}\n",
    "\n",
    "#Defined code of ships\n",
    "ships_code={\"carrier\":1,\n",
    "\"battleship\":2,\n",
    "\"cruiser\":3,\n",
    "\"submarine\":4,\n",
    "\"destroyer\": 5}\n",
    "#Maximum number of guesses\n",
    "max_guess = 60\n"
   ]
  },
  {
   "cell_type": "code",
   "execution_count": 16,
   "metadata": {},
   "outputs": [],
   "source": [
    "def create_board(m=10,n=10):\n",
    "    \"\"\" returns an numpy array of size m*n filled with Zero values\"\"\"\n",
    "    return np.zeros((m,n))\n",
    "def position_ships(ships_code,ships_size, m=10,n=10):\n",
    "    \"\"\"\n",
    "    Returns a list of positions values in the form of letter and number \n",
    "    based on the ship sizes in dictionary ships_size\n",
    "    \"\"\"\n",
    "    ships_pos_dic = {} #Dictionary holding position for each list\n",
    "\n",
    "    pc_board = create_board()\n",
    "    for iship,isize  in ships_size.items():\n",
    "        ships_pos_dic[iship] = []\n",
    "        flagOkposition=True\n",
    "        while flagOkposition:\n",
    "            positionx = random.choice(range(0,n))\n",
    "            positiony = random.choice(range(0,m))\n",
    "            angleship = random.choice((\"v\",\"h\"))\n",
    "            print(f\"first poistion of ship x{positionx}, y{positiony} and lays {angleship}\")\n",
    "            if angleship == \"v\":\n",
    "                if (positiony + isize) >=m :\n",
    "                    print(\"try another starting position\")\n",
    "                else:\n",
    "                    print(positiony + isize)\n",
    "                    pc_board[positiony:(positiony+isize),positionx] = ships_code[iship]\n",
    "                    for ipos in range(positiony,positiony+isize):\n",
    "                        list_ship_pos = ships_pos_dic[iship] \n",
    "                        list_ship_pos.append(ascii_uppercase[ipos]+str(positionx+1))\n",
    "                    flagOkposition = False\n",
    "            else:\n",
    "                if (positionx + isize) >=n or positiony >=m:\n",
    "                    print(\"try another starting position\")\n",
    "                else:\n",
    "                    print(positionx+isize)\n",
    "                    pc_board[positiony,positionx:(positionx+isize)] = ships_code[iship]\n",
    "                    for ipos in range(positionx,positionx+isize):\n",
    "                        list_ship_pos = ships_pos_dic[iship] \n",
    "                        list_ship_pos.append(ascii_uppercase[positiony+1]+str(ipos+1))\n",
    "                    flagOkposition = False\n",
    "    print(pc_board)\n",
    "    print(ships_pos_dic)\n",
    "    list_final_pos = []\n",
    "    for positionlist in ships_pos_dic.values():\n",
    "        list_final_pos.extend(positionlist)\n",
    "    return pc_board,ships_pos_dic, list_final_pos\n",
    "# Function with a starting number of guesses (ex: 65):\n",
    "# For each guess: decrementing by 1 at each guesses.\n",
    "# While not all ships sunk and number of guesses >= 1, ask this\n",
    "\n",
    "# This function checks that the case entered is correct\n",
    "def guess():\n",
    "    # Asking player to enter a letter \n",
    "    letter_lin = str(input(\"Enter a line between A and J: \"))\n",
    "    letter_lin = letter_lin.upper()\n",
    "    \n",
    "    # Checking if letter is within range of the board with while loop and using a boolean and not stopping until condition is met\n",
    "    pattern = \"[ABCDEFGHIJ]\"\n",
    "    \n",
    "    while (bool(re.search(pattern, letter_lin)) is False) :\n",
    "        letter_lin = str(input(\"An incorrect character or out of range letter was entered.\\n Please enter a column between A and J: \"))\n",
    "        letter_lin = letter_lin.upper()\n",
    "\n",
    "    # Checking if multiple characters are not entered and not stopping until condition is met\n",
    "    while len(letter_lin) != 1:\n",
    "        letter_lin = str(input(\"You entered more than 1 character.\\n Please enter a column between A and J: \"))\n",
    "        letter_lin = letter_lin.upper()\n",
    "\n",
    "    # Asking player to enter a letter \n",
    "    column_num = int(input(\"Enter a number between 1 and 10: \"))\n",
    "    \n",
    "    # Checking if number is within range and keep asking until in range\n",
    "    while not 1<=column_num<=10 :\n",
    "        column_num = int(input(\"An incorrect character or out of range letter was entered.\\n Please enter a column between 1 and 10: \"))    \n",
    "\n",
    "    # Transforming the number into string\n",
    "    str_column_num = str(column_num)\n",
    "    \n",
    "    # Joining the strings to have the identity of the case (ex: B7)\n",
    "    case = letter_lin+str_column_num\n"
   ]
  },
  {
   "cell_type": "code",
   "execution_count": 17,
   "metadata": {},
   "outputs": [
    {
     "name": "stdout",
     "output_type": "stream",
     "text": [
      "first poistion of ship x1, y2 and lays v\n",
      "7\n",
      "first poistion of ship x5, y4 and lays h\n",
      "9\n",
      "first poistion of ship x8, y4 and lays v\n",
      "7\n",
      "first poistion of ship x3, y6 and lays v\n",
      "9\n",
      "first poistion of ship x9, y0 and lays h\n",
      "try another starting position\n",
      "first poistion of ship x4, y2 and lays h\n",
      "6\n",
      "[[0. 0. 0. 0. 0. 0. 0. 0. 0. 0.]\n",
      " [0. 0. 0. 0. 0. 0. 0. 0. 0. 0.]\n",
      " [0. 1. 0. 0. 5. 5. 0. 0. 0. 0.]\n",
      " [0. 1. 0. 0. 0. 0. 0. 0. 0. 0.]\n",
      " [0. 1. 0. 0. 0. 2. 2. 2. 3. 0.]\n",
      " [0. 1. 0. 0. 0. 0. 0. 0. 3. 0.]\n",
      " [0. 1. 0. 4. 0. 0. 0. 0. 3. 0.]\n",
      " [0. 0. 0. 4. 0. 0. 0. 0. 0. 0.]\n",
      " [0. 0. 0. 4. 0. 0. 0. 0. 0. 0.]\n",
      " [0. 0. 0. 0. 0. 0. 0. 0. 0. 0.]]\n",
      "{'carrier': ['C2', 'D2', 'E2', 'F2', 'G2'], 'battleship': ['F6', 'F7', 'F8', 'F9'], 'cruiser': ['E9', 'F9', 'G9'], 'submarine': ['G4', 'H4', 'I4'], 'destroyer': ['D5', 'D6']}\n"
     ]
    }
   ],
   "source": [
    "pc_board,ships_pos_dic,list_final_pos = position_ships(ships_code, ships_size)"
   ]
  },
  {
   "cell_type": "code",
   "execution_count": 24,
   "metadata": {},
   "outputs": [],
   "source": [
    "import matplotlib.pyplot as plt\n",
    "\n",
    "def transform_case(case):\n",
    "    y = ord(case[0].lower()) - 96 #to ascii \n",
    "    x = int(case[1])\n",
    "    return y,x #For numpy array\n",
    "\n",
    "def visu_board(already_guessed, list_hits, m, n):\n",
    "    \"\"\"\n",
    "    Touch = X \n",
    "    MISSED = o\n",
    "\n",
    "    dic values :\n",
    "        \n",
    "    \"\"\"\n",
    "    game_board = create_board()\n",
    "    for case in already_guessed:\n",
    "        iy, ix = transform_case(case)\n",
    "        if case in list_hits:\n",
    "            game_board[iy,ix] = 3\n",
    "        else:\n",
    "            game_board[iy,ix] = 2\n",
    "    img = plt.imshow(game_board)\n",
    "    return img\n",
    "    \n"
   ]
  },
  {
   "cell_type": "code",
   "execution_count": null,
   "metadata": {},
   "outputs": [],
   "source": []
  },
  {
   "cell_type": "code",
   "execution_count": 15,
   "metadata": {},
   "outputs": [
    {
     "name": "stdout",
     "output_type": "stream",
     "text": [
      "MISSED\n"
     ]
    }
   ],
   "source": [
    "\n",
    "case = input(\"Please insert letter and number\")\n",
    "already_guessed=[]\n",
    "list_hits = []\n",
    "if case in list_final_pos:\n",
    "    print(\"TOUCHED\")\n",
    "    list_hits.append(case)\n",
    "    shipsunk = 0\n",
    "    for shipname,ship_listi in ships_pos_dic.items():\n",
    "        if case in ship_listi:\n",
    "            ship_listi.remove(case)\n",
    "            if len(ship_listi)==0:\n",
    "                print(\"SUNK\")\n",
    "                shipsunk+=1\n",
    "        if shipsunk == len(ships_pos_dic.keys()):\n",
    "            print(\"YOU WON\")\n",
    "            #break\n",
    "else:\n",
    "    print (\"MISSED\")\n",
    "    \n",
    "#guess -=1\n",
    "already_guessed.append(case)"
   ]
  },
  {
   "cell_type": "code",
   "execution_count": 23,
   "metadata": {},
   "outputs": [
    {
     "name": "stdout",
     "output_type": "stream",
     "text": [
      "1\n"
     ]
    }
   ],
   "source": [
    "number = ord(\"A\".lower()) - 96\n",
    "print(number)\n"
   ]
  },
  {
   "cell_type": "code",
   "execution_count": null,
   "metadata": {},
   "outputs": [],
   "source": []
  }
 ],
 "metadata": {
  "kernelspec": {
   "display_name": "base",
   "language": "python",
   "name": "python3"
  },
  "language_info": {
   "codemirror_mode": {
    "name": "ipython",
    "version": 3
   },
   "file_extension": ".py",
   "mimetype": "text/x-python",
   "name": "python",
   "nbconvert_exporter": "python",
   "pygments_lexer": "ipython3",
   "version": "3.9.13"
  },
  "orig_nbformat": 4,
  "vscode": {
   "interpreter": {
    "hash": "ad2bdc8ecc057115af97d19610ffacc2b4e99fae6737bb82f5d7fb13d2f2c186"
   }
  }
 },
 "nbformat": 4,
 "nbformat_minor": 2
}
