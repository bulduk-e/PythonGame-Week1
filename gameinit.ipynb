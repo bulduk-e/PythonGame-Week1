{
 "cells": [
  {
   "cell_type": "code",
   "execution_count": 16,
   "metadata": {},
   "outputs": [],
   "source": [
    "import re\n",
    "import random\n",
    "import numpy as np\n",
    "from string import ascii_uppercase\n"
   ]
  },
  {
   "cell_type": "code",
   "execution_count": 7,
   "metadata": {},
   "outputs": [],
   "source": [
    "#INITIALIZATION OF GAME\n",
    "#Defined size of board (rows m , colums n)\n",
    "m = 10; n = 10\n",
    "\n",
    "#Defined length of ships\n",
    "ships_size={\"carrier\":5,\n",
    "\"battleship\":4,\n",
    "\"cruiser\":3,\n",
    "\"submarine\":3,\n",
    "\"destroyer\": 2}\n",
    "\n",
    "#Defined code of ships\n",
    "ships_code={\"carrier\":1,\n",
    "\"battleship\":2,\n",
    "\"cruiser\":3,\n",
    "\"submarine\":4,\n",
    "\"destroyer\": 5}\n",
    "#Maximum number of guesses\n",
    "max_guess = 60\n"
   ]
  },
  {
   "cell_type": "code",
   "execution_count": 53,
   "metadata": {},
   "outputs": [],
   "source": [
    "def create_board(m=10,n=10):\n",
    "    \"\"\" returns an numpy array of size m*n filled with Zero values\"\"\"\n",
    "    return np.zeros((m,n))\n",
    "def position_ships(ships_code,ships_size, m=10,n=10):\n",
    "    \"\"\"\n",
    "    Returns a list of positions values in the form of letter and number \n",
    "    based on the ship sizes in dictionary ships_size\n",
    "    \"\"\"\n",
    "    ships_pos_dic = {} #Dictionary holding position for each list\n",
    "\n",
    "    pc_board = create_board()\n",
    "    for iship,isize  in ships_size.items():\n",
    "        ships_pos_dic[iship] = []\n",
    "        flagOkposition=True\n",
    "        while flagOkposition:\n",
    "            positionx = random.choice(range(0,n))\n",
    "            positiony = random.choice(range(0,m))\n",
    "            angleship = random.choice((\"v\",\"h\"))\n",
    "            print(f\"first poistion of ship x{positionx}, y{positiony} and lays {angleship}\")\n",
    "            if angleship == \"v\":\n",
    "                if (positiony + isize) >=m :\n",
    "                    print(\"try another starting position\")\n",
    "                else:\n",
    "                    print(positiony + isize)\n",
    "                    pc_board[positiony:(positiony+isize),positionx] = ships_code[iship]\n",
    "                    for ipos in range(positiony,positiony+isize):\n",
    "                        list_ship_pos = ships_pos_dic[iship] \n",
    "                        list_ship_pos.append(ascii_uppercase[ipos]+str(positionx+1))\n",
    "                    flagOkposition = False\n",
    "            else:\n",
    "                if (positionx + isize) >=n or positiony >=m:\n",
    "                    print(\"try another starting position\")\n",
    "                else:\n",
    "                    print(positionx+isize)\n",
    "                    pc_board[positiony,positionx:(positionx+isize)] = ships_code[iship]\n",
    "                    for ipos in range(positionx,positionx+isize):\n",
    "                        list_ship_pos = ships_pos_dic[iship] \n",
    "                        list_ship_pos.append(ascii_uppercase[positiony+1]+str(ipos+1))\n",
    "                    flagOkposition = False\n",
    "    print(pc_board)\n",
    "    print(ships_pos_dic)\n",
    "#    list_final_pos = []\n",
    "#    for positionlist in ships_pos_dic.values():\n",
    "#        list_final_pos.extend(positionlist)\n",
    "    return pc_board,ships_pos_dic \n"
   ]
  },
  {
   "cell_type": "code",
   "execution_count": 54,
   "metadata": {},
   "outputs": [
    {
     "name": "stdout",
     "output_type": "stream",
     "text": [
      "first poistion of ship x4, y5 and lays v\n",
      "try another starting position\n",
      "first poistion of ship x9, y6 and lays h\n",
      "try another starting position\n",
      "first poistion of ship x3, y4 and lays v\n",
      "9\n",
      "first poistion of ship x1, y0 and lays h\n",
      "5\n",
      "first poistion of ship x2, y3 and lays v\n",
      "6\n",
      "first poistion of ship x4, y7 and lays v\n",
      "try another starting position\n",
      "first poistion of ship x8, y4 and lays v\n",
      "7\n",
      "first poistion of ship x0, y3 and lays h\n",
      "2\n",
      "[[0. 2. 2. 2. 2. 0. 0. 0. 0. 0.]\n",
      " [0. 0. 0. 0. 0. 0. 0. 0. 0. 0.]\n",
      " [0. 0. 0. 0. 0. 0. 0. 0. 0. 0.]\n",
      " [5. 5. 3. 0. 0. 0. 0. 0. 0. 0.]\n",
      " [0. 0. 3. 1. 0. 0. 0. 0. 4. 0.]\n",
      " [0. 0. 3. 1. 0. 0. 0. 0. 4. 0.]\n",
      " [0. 0. 0. 1. 0. 0. 0. 0. 4. 0.]\n",
      " [0. 0. 0. 1. 0. 0. 0. 0. 0. 0.]\n",
      " [0. 0. 0. 1. 0. 0. 0. 0. 0. 0.]\n",
      " [0. 0. 0. 0. 0. 0. 0. 0. 0. 0.]]\n",
      "{'carrier': ['E4', 'F4', 'G4', 'H4', 'I4'], 'battleship': ['B2', 'B3', 'B4', 'B5'], 'cruiser': ['D3', 'E3', 'F3'], 'submarine': ['E9', 'F9', 'G9'], 'destroyer': ['E1', 'E2']}\n"
     ]
    }
   ],
   "source": [
    "pc_board,ships_pos_dic = position_ships(ships_code, ships_size)"
   ]
  },
  {
   "cell_type": "code",
   "execution_count": 55,
   "metadata": {},
   "outputs": [
    {
     "data": {
      "text/plain": [
       "['E4',\n",
       " 'F4',\n",
       " 'G4',\n",
       " 'H4',\n",
       " 'I4',\n",
       " 'B2',\n",
       " 'B3',\n",
       " 'B4',\n",
       " 'B5',\n",
       " 'D3',\n",
       " 'E3',\n",
       " 'F3',\n",
       " 'E9',\n",
       " 'F9',\n",
       " 'G9',\n",
       " 'E1',\n",
       " 'E2']"
      ]
     },
     "execution_count": 55,
     "metadata": {},
     "output_type": "execute_result"
    }
   ],
   "source": []
  },
  {
   "cell_type": "code",
   "execution_count": 13,
   "metadata": {},
   "outputs": [],
   "source": []
  },
  {
   "cell_type": "code",
   "execution_count": 14,
   "metadata": {},
   "outputs": [
    {
     "data": {
      "text/plain": [
       "'b'"
      ]
     },
     "execution_count": 14,
     "metadata": {},
     "output_type": "execute_result"
    }
   ],
   "source": [
    "ascii_lowercase[1]\n"
   ]
  },
  {
   "cell_type": "code",
   "execution_count": null,
   "metadata": {},
   "outputs": [],
   "source": []
  }
 ],
 "metadata": {
  "kernelspec": {
   "display_name": "base",
   "language": "python",
   "name": "python3"
  },
  "language_info": {
   "codemirror_mode": {
    "name": "ipython",
    "version": 3
   },
   "file_extension": ".py",
   "mimetype": "text/x-python",
   "name": "python",
   "nbconvert_exporter": "python",
   "pygments_lexer": "ipython3",
   "version": "3.9.13 (main, Aug 25 2022, 23:51:50) [MSC v.1916 64 bit (AMD64)]"
  },
  "orig_nbformat": 4,
  "vscode": {
   "interpreter": {
    "hash": "ad2bdc8ecc057115af97d19610ffacc2b4e99fae6737bb82f5d7fb13d2f2c186"
   }
  }
 },
 "nbformat": 4,
 "nbformat_minor": 2
}
