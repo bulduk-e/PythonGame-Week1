{
 "cells": [
  {
   "cell_type": "code",
   "execution_count": 12,
   "id": "85b2f174",
   "metadata": {},
   "outputs": [
    {
     "name": "stdout",
     "output_type": "stream",
     "text": [
      "MISSED\n",
      "['I9']\n"
     ]
    }
   ],
   "source": [
    "case=\"I9\"\n",
    "ship_list1=[]\n",
    "ship_list2=[\"A2\",\"B2\",\"C2\",\"D2\"]\n",
    "ship_list3=[\"F6\",\"F7\",\"F8\"]\n",
    "ship_list4=[\"D5\",\"E5\",\"F5\"]\n",
    "ship_list5=[\"I7\"]\n",
    "\n",
    "all_guess=[]\n",
    "\n",
    "if case in ship_list1 :\n",
    "    ship_list1.remove(case)\n",
    "    if len(ship_list1)==0:\n",
    "        if len(ship_list1)+len(ship_list2)+len(ship_list3)+len(ship_list4)+len(ship_list5)==0:\n",
    "            print(\"YOU WON\")\n",
    "            #break\n",
    "        else:\n",
    "            print (\"SUNK\")\n",
    "    else:\n",
    "        print(\"TOUCHED\")\n",
    "else : \n",
    "    if case in ship_list2 :\n",
    "        ship_list2.remove(case)\n",
    "        if len(ship_list2)==0:\n",
    "            if len(ship_list1)+len(ship_list2)+len(ship_list3)+len(ship_list4)+len(ship_list5)==0:\n",
    "                print(\"YOU WON\")\n",
    "                #break\n",
    "            else:\n",
    "                print (\"SUNK\")\n",
    "        else:\n",
    "            print(\"TOUCHED\")\n",
    "    else :\n",
    "        if case in ship_list3 :\n",
    "            ship_list3.remove(case)\n",
    "            if len(ship_list3)==0:\n",
    "                if len(ship_list1)+len(ship_list2)+len(ship_list3)+len(ship_list4)+len(ship_list5)==0:\n",
    "                    print(\"YOU WON\")\n",
    "                    #break\n",
    "                else:\n",
    "                    print (\"SUNK\")\n",
    "            else:\n",
    "                print(\"TOUCHED\")\n",
    "        else: \n",
    "            if case in ship_list4 :\n",
    "                ship_list4.remove(case)\n",
    "                if len(ship_list4)==0:\n",
    "                    if len(ship_list1)+len(ship_list2)+len(ship_list3)+len(ship_list4)+len(ship_list5)==0:\n",
    "                        print(\"YOU WON\")\n",
    "                        #break\n",
    "                    else:\n",
    "                        print (\"SUNK\")\n",
    "                else:\n",
    "                    print(\"TOUCHED\")\n",
    "            else:\n",
    "                if case in ship_list5 :\n",
    "                    ship_list5.remove(case)\n",
    "                    if len(ship_list5)==0:\n",
    "                        if len(ship_list1)+len(ship_list2)+len(ship_list3)+len(ship_list4)+len(ship_list5)==0:\n",
    "                            print(\"YOU WON\")\n",
    "                            #break\n",
    "                        else:\n",
    "                            print (\"SUNK\")\n",
    "                    else:\n",
    "                        print(\"TOUCHED\")\n",
    "                else: \n",
    "                    print (\"MISSED\")\n",
    "all_guess.append(case)\n",
    "print(all_guess)"
   ]
  },
  {
   "cell_type": "code",
   "execution_count": null,
   "id": "357764ba",
   "metadata": {},
   "outputs": [],
   "source": []
  }
 ],
 "metadata": {
  "kernelspec": {
   "display_name": "Python 3 (ipykernel)",
   "language": "python",
   "name": "python3"
  },
  "language_info": {
   "codemirror_mode": {
    "name": "ipython",
    "version": 3
   },
   "file_extension": ".py",
   "mimetype": "text/x-python",
   "name": "python",
   "nbconvert_exporter": "python",
   "pygments_lexer": "ipython3",
   "version": "3.9.13"
  }
 },
 "nbformat": 4,
 "nbformat_minor": 5
}
