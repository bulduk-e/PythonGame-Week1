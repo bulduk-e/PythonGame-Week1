{
 "cells": [
  {
   "cell_type": "code",
   "execution_count": 125,
   "id": "47b288f7",
   "metadata": {},
   "outputs": [],
   "source": [
    "# Function with a starting number of guesses (ex: 65):\n",
    "# For each guess: decrementing by 1 at each guesses.\n",
    "# While not all ships sunk and number of guesses >= 1, ask this\n",
    "\n",
    "# This function checks that the case entered is correct\n",
    "def guess():\n",
    "    # Asking player to enter a letter \n",
    "    letter_lin = str(input(\"Enter a line between A and J: \"))\n",
    "    letter_lin = letter_lin.upper()\n",
    "    \n",
    "    # Checking if letter is within range of the board with while loop and using a boolean and not stopping until condition is met\n",
    "    import re\n",
    "    pattern = \"[ABCDEFGHIJ]\"\n",
    "    \n",
    "    while (bool(re.search(pattern, letter_lin)) is False) :\n",
    "        letter_lin = str(input(\"An incorrect character or out of range letter was entered.\\n Please enter a column between A and J: \"))\n",
    "        letter_lin = letter_lin.upper()\n",
    "\n",
    "    # Checking if multiple characters are not entered and not stopping until condition is met\n",
    "    while len(letter_lin) != 1:\n",
    "        letter_lin = str(input(\"You entered more than 1 character.\\n Please enter a column between A and J: \"))\n",
    "        letter_lin = letter_lin.upper()\n",
    "\n",
    "    # Asking player to enter a letter \n",
    "    column_num = int(input(\"Enter a number between 1 and 10: \"))\n",
    "    \n",
    "    # Checking if number is within range and keep asking until in range\n",
    "    while not 1<=column_num<=10 :\n",
    "        column_num = int(input(\"An incorrect character or out of range letter was entered.\\n Please enter a column between 1 and 10: \"))    \n",
    "\n",
    "    # Transforming the number into string\n",
    "    str_column_num = str(column_num)\n",
    "    \n",
    "    # Joining the strings to have the identity of the case (ex: B7)\n",
    "    case = letter_lin+str_column_num\n",
    "\n"
   ]
  },
  {
   "cell_type": "code",
   "execution_count": null,
   "id": "0e38f614",
   "metadata": {},
   "outputs": [],
   "source": []
  },
  {
   "cell_type": "code",
   "execution_count": null,
   "id": "bb4b07d2",
   "metadata": {},
   "outputs": [],
   "source": []
  },
  {
   "cell_type": "code",
   "execution_count": null,
   "id": "d838a38e",
   "metadata": {},
   "outputs": [],
   "source": []
  }
 ],
 "metadata": {
  "kernelspec": {
   "display_name": "Python 3 (ipykernel)",
   "language": "python",
   "name": "python3"
  },
  "language_info": {
   "codemirror_mode": {
    "name": "ipython",
    "version": 3
   },
   "file_extension": ".py",
   "mimetype": "text/x-python",
   "name": "python",
   "nbconvert_exporter": "python",
   "pygments_lexer": "ipython3",
   "version": "3.9.13"
  }
 },
 "nbformat": 4,
 "nbformat_minor": 5
}
